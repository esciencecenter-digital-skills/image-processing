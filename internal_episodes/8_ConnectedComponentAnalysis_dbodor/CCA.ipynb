{
 "cells": [
  {
   "cell_type": "markdown",
   "metadata": {},
   "source": [
    "# Finding Connected Components"
   ]
  },
  {
   "cell_type": "code",
   "execution_count": null,
   "metadata": {},
   "outputs": [],
   "source": [
    "import numpy as np\n",
    "import matplotlib.pyplot as plt\n",
    "import imageio.v3 as iio\n",
    "from skimage import color, filters, measure\n",
    "import os\n"
   ]
  },
  {
   "cell_type": "code",
   "execution_count": null,
   "metadata": {},
   "outputs": [],
   "source": [
    "def connected_components(\n",
    "    filename,\n",
    "    sigma = 1.0,\n",
    "    thresh = 0.5,\n",
    "    neighborhood = 2,\n",
    "):\n",
    "\n",
    "    image = iio.imread(filename)\n",
    "    gray_image = color.rgb2gray(image)\n",
    "    blurred_image = filters.gaussian(gray_image, sigma)\n",
    "    binary_mask = blurred_image < thresh\n",
    "    labeled_image, n_objects = measure.label(binary_mask, connectivity=neighborhood, return_num=True)\n",
    "    \n",
    "    return labeled_image, n_objects"
   ]
  },
  {
   "cell_type": "code",
   "execution_count": null,
   "metadata": {},
   "outputs": [],
   "source": []
  },
  {
   "cell_type": "code",
   "execution_count": null,
   "metadata": {},
   "outputs": [],
   "source": [
    "# data_dir should be matched to your local data directory relative to notebook\n",
    "data_dir = '../../data/'\n",
    "file = os.path.join(data_dir, 'shapes-01.jpg')\n",
    "\n",
    "image = iio.imread(file)\n",
    "plt.imshow(image)"
   ]
  },
  {
   "cell_type": "code",
   "execution_count": null,
   "metadata": {},
   "outputs": [],
   "source": []
  },
  {
   "cell_type": "code",
   "execution_count": null,
   "metadata": {},
   "outputs": [],
   "source": [
    "\n",
    "labeled_im, count = connected_components(file, 2, 0.9)\n",
    "colored_label_im = color.label2rgb(labeled_im, bg_label=0)\n",
    "print(count)\n",
    "plt.imshow(colored_label_im)"
   ]
  },
  {
   "cell_type": "markdown",
   "metadata": {},
   "source": [
    "## Exercise:\n",
    "\n",
    "  1. Using the `connected_components` function, find two ways of outputting the number of objects found.\n",
    "  2. Does this number correspond with your expectation? Why/why not?\n",
    "  3. Play around with the `sigma` and `thresh` parameters.  \n",
    "    a. How do these parameters influence the number of objects found?  \n",
    "    b. OPTIONAL: Can you find a set of parameters that will give you the expected number of objects?\n"
   ]
  },
  {
   "cell_type": "markdown",
   "metadata": {},
   "source": [
    "# Morphometrics"
   ]
  },
  {
   "cell_type": "markdown",
   "metadata": {},
   "source": [
    "Morphometrics is concerned with the quantitative analysis of objects and considers properties such as size and shape. For the example of the images with the shapes, our intuition tells us that the objects should be of a certain size or area. So we could use a minimum area as a criterion for when an object should be detected. To apply such a criterion, we need a way to calculate the area of objects found by connected components. Recall how we determined the root mass in the Thresholding episode by counting the pixels in the binary mask. But here we want to calculate the area of several objects in the labeled image. The skimage library provides the function skimage.measure.regionprops to measure the properties of labeled regions. It returns a list of RegionProperties that describe each connected region in the images. The properties can be accessed using the attributes of the RegionProperties data type. Here we will use the properties \"area\" and \"label\". You can explore the skimage documentation to learn about other properties available.\n",
    "\n",
    "We can get a list of areas of the labeled objects as follows:"
   ]
  },
  {
   "cell_type": "code",
   "execution_count": null,
   "metadata": {},
   "outputs": [],
   "source": [
    "\n",
    "roi_list = measure.regionprops(labeled_im, )\n",
    "\n",
    "def get_object_areas(roi_list):\n",
    "    return [roi.area for roi in roi_list]\n",
    "\n",
    "areas = get_object_areas(roi_list)\n",
    "areas"
   ]
  },
  {
   "cell_type": "code",
   "execution_count": null,
   "metadata": {},
   "outputs": [],
   "source": [
    "fig, ax = plt.subplots()\n",
    "plt.hist(areas)\n",
    "plt.ticklabel_format(axis='x', style='sci', scilimits=(4,4))\n",
    "plt.xlabel('Area (pixels)')\n",
    "plt.ylabel('Number of objects')\n",
    "\n"
   ]
  },
  {
   "cell_type": "code",
   "execution_count": null,
   "metadata": {},
   "outputs": [],
   "source": [
    "min_area = 5e4\n",
    "large_rois = [roi for roi in roi_list if roi.area > min_area]\n",
    "get_object_areas(large_rois)\n"
   ]
  },
  {
   "cell_type": "markdown",
   "metadata": {},
   "source": [
    "## Exercise:\n",
    "\n",
    "Adjust the `connected_components` function so that it allows `min_area` as an input argument, and only outputs regions above this minimum.\n",
    "\n",
    "HINT: check out the [skimage.morphology](https://scikit-image.org/docs/stable/api/skimage.morphology.html) library."
   ]
  },
  {
   "cell_type": "code",
   "execution_count": null,
   "metadata": {},
   "outputs": [],
   "source": []
  },
  {
   "cell_type": "code",
   "execution_count": null,
   "metadata": {},
   "outputs": [],
   "source": []
  },
  {
   "cell_type": "code",
   "execution_count": null,
   "metadata": {},
   "outputs": [],
   "source": []
  }
 ],
 "metadata": {
  "kernelspec": {
   "display_name": "Python 3 (ipykernel)",
   "language": "python",
   "name": "python3"
  },
  "language_info": {
   "codemirror_mode": {
    "name": "ipython",
    "version": 3
   },
   "file_extension": ".py",
   "mimetype": "text/x-python",
   "name": "python",
   "nbconvert_exporter": "python",
   "pygments_lexer": "ipython3",
   "version": "3.8.6"
  },
  "vscode": {
   "interpreter": {
    "hash": "76c83491927d8dc0875894c9ce580eaacdeb8b6339e78cf9a4c76ea9908f5556"
   }
  }
 },
 "nbformat": 4,
 "nbformat_minor": 2
}
