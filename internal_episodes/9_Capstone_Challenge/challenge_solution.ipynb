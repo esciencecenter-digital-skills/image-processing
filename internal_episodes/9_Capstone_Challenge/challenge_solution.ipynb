{
 "cells": [
  {
   "cell_type": "markdown",
   "metadata": {},
   "source": [
    "# Capstone Challenge"
   ]
  },
  {
   "cell_type": "code",
   "execution_count": null,
   "metadata": {},
   "outputs": [],
   "source": [
    "import numpy as np\n",
    "import matplotlib.pyplot as plt\n",
    "import imageio.v3 as iio\n",
    "from skimage import color, filters, measure, morphology\n"
   ]
  },
  {
   "cell_type": "code",
   "execution_count": null,
   "metadata": {},
   "outputs": [],
   "source": [
    "def create_mask(image, sigma = 1.0, thresh=0.5):\n",
    "    gray_image = color.rgb2gray(image)\n",
    "    blurred_image = filters.gaussian(gray_image, sigma)\n",
    "    binary_mask = blurred_image < thresh\n",
    "    \n",
    "    return binary_mask\n",
    "\n",
    "def connected_components(\n",
    "    image,\n",
    "    sigma = 1.0,\n",
    "    thresh = 0.5,\n",
    "    neighborhood = 2,\n",
    "    min_area = 0\n",
    "):\n",
    "\n",
    "    mask = create_mask(image, sigma, thresh)\n",
    "    mask = morphology.remove_small_objects(mask, min_area)\n",
    "    \n",
    "    labeled_image, n_objects = measure.label(mask, connectivity=neighborhood, return_num=True)\n",
    "    \n",
    "    return labeled_image, n_objects, mask, "
   ]
  },
  {
   "cell_type": "code",
   "execution_count": null,
   "metadata": {},
   "outputs": [],
   "source": [
    "data_dir = '/home/dbodor/git/image-processing/data/'\n",
    "file = data_dir + 'colonies-01.tif'\n",
    "image = iio.imread(file)\n",
    "\n",
    "# plt.imshow(image)\n",
    "\n",
    "labeled_im, count, mask = connected_components(image, 2, 0.3)\n",
    "colored_label_im = color.label2rgb(labeled_im, bg_label=0)\n",
    "print(count)\n",
    "plt.imshow(colored_label_im)"
   ]
  },
  {
   "cell_type": "code",
   "execution_count": null,
   "metadata": {},
   "outputs": [],
   "source": [
    "gray_image = color.rgb2gray(image)\n",
    "summary_im = color.gray2rgb(gray_image)\n",
    "summary_im[mask] = colored_label_im[mask]\n",
    "\n",
    "plt.imshow(summary_im)"
   ]
  }
 ],
 "metadata": {
  "kernelspec": {
   "display_name": "image_processing_internal",
   "language": "python",
   "name": "python3"
  },
  "language_info": {
   "codemirror_mode": {
    "name": "ipython",
    "version": 3
   },
   "file_extension": ".py",
   "mimetype": "text/x-python",
   "name": "python",
   "nbconvert_exporter": "python",
   "pygments_lexer": "ipython3",
   "version": "3.9.16"
  },
  "orig_nbformat": 4,
  "vscode": {
   "interpreter": {
    "hash": "76c83491927d8dc0875894c9ce580eaacdeb8b6339e78cf9a4c76ea9908f5556"
   }
  }
 },
 "nbformat": 4,
 "nbformat_minor": 2
}
