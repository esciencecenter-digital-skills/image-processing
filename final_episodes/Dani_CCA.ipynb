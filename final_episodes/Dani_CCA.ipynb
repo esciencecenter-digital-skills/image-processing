{
 "cells": [
  {
   "cell_type": "code",
   "execution_count": null,
   "id": "3a30e227-1940-4352-938a-36ea39e51846",
   "metadata": {
    "tags": []
   },
   "outputs": [],
   "source": [
    "import numpy as np\n",
    "import matplotlib.pyplot as plt\n",
    "import imageio.v3 as iio\n",
    "from skimage import color, filters, measure, morphology, draw\n",
    "import os\n",
    "\n",
    "%matplotlib widget"
   ]
  },
  {
   "cell_type": "code",
   "execution_count": null,
   "id": "608d84bf-1e86-4405-ad63-f9dd77bd66cb",
   "metadata": {
    "tags": []
   },
   "outputs": [],
   "source": [
    "shapes = iio.imread(\"../data/shapes-01.jpg\")\n",
    "\n",
    "def show(img, cmap = None):\n",
    "    fig, ax = plt.subplots()\n",
    "    plt.imshow(img, cmap = cmap)\n",
    "    \n",
    "show(shapes)"
   ]
  },
  {
   "cell_type": "code",
   "execution_count": null,
   "id": "ce5af11d-e8ac-4e16-995f-5daec799f3d4",
   "metadata": {
    "tags": []
   },
   "outputs": [],
   "source": [
    "def connected_components(\n",
    "    img,\n",
    "    sigma,\n",
    "    thresh,\n",
    "    neighborhood = 2,  # discuss 1- and 2-neighboorhoods with rubik's cube\n",
    "):\n",
    "    \n",
    "    gray_img = color.rgb2gray(img)\n",
    "    blurred = filters.gaussian(gray_img, sigma)\n",
    "    mask = blurred < thresh\n",
    "\n",
    "    labeled_img, n_objects = measure.label(mask,\n",
    "                                       connectivity=neighborhood,\n",
    "                                       return_num = True)\n",
    "    \n",
    "    \n",
    "    return labeled_img, n_objects\n",
    "    "
   ]
  },
  {
   "cell_type": "code",
   "execution_count": null,
   "id": "fa66f3e5-93f6-45d9-b5d8-42b200c6b409",
   "metadata": {
    "tags": []
   },
   "outputs": [],
   "source": [
    "labeled_img, count = connected_components(shapes, 2, 0.9)\n",
    "show(labeled_img)"
   ]
  },
  {
   "cell_type": "code",
   "execution_count": null,
   "id": "93406c50-8445-496b-ab69-0b4b14e65eab",
   "metadata": {
    "tags": []
   },
   "outputs": [],
   "source": [
    "colored_labeled_img = color.label2rgb(labeled_img, bg_label=0)\n",
    "show(colored_labeled_img)"
   ]
  },
  {
   "cell_type": "markdown",
   "id": "7633a962-9e19-4c9e-88bd-cbcf5a5d8142",
   "metadata": {
    "tags": []
   },
   "source": [
    "## Exercise 1\n",
    "line 251?\n",
    "\n",
    "1. Using the `connected_components` function, find two ways of outputting the number of objects found.\n",
    "2. Does this number correspond with your expectation? Why/why not?\n",
    "3. Play around with the `sigma` and `thresh` parameters.  \n",
    "    a. How do these parameters influence the number of objects found?  \n",
    "    b. OPTIONAL: Can you find a set of parameters that will give you the expected number of objects?\n",
    "\n",
    "Put your green sticky up when you've finished with 3a"
   ]
  },
  {
   "cell_type": "code",
   "execution_count": null,
   "id": "5d408ee8-483a-4b7d-8550-768e3d09f559",
   "metadata": {
    "tags": []
   },
   "outputs": [],
   "source": []
  },
  {
   "cell_type": "markdown",
   "id": "50fb9d0c-dde4-462b-806f-62faa884ea21",
   "metadata": {},
   "source": [
    "### Get a list of the labeled objects"
   ]
  },
  {
   "cell_type": "code",
   "execution_count": null,
   "id": "d82da456-a7ef-4da7-ad90-3ecb9dca87b4",
   "metadata": {
    "tags": []
   },
   "outputs": [],
   "source": [
    "roi_list = measure.regionprops(labeled_img)\n",
    "\n",
    "def get_object_area(roi_list):\n",
    "    return [roi.area for roi in roi_list]\n",
    "\n",
    "areas = get_object_area(roi_list)\n",
    "areas"
   ]
  },
  {
   "cell_type": "code",
   "execution_count": null,
   "id": "06a7759e-6574-45f0-948e-4b7d684163c2",
   "metadata": {
    "tags": []
   },
   "outputs": [],
   "source": [
    "fig, ax = plt.subplots()\n",
    "plt.hist(areas)\n",
    "plt.ticklabel_format(axis='x', style='sci', scilimits=(4,4))\n",
    "plt.xlabel('Area (pixels)')\n",
    "plt.ylabel('Number of objects')"
   ]
  },
  {
   "cell_type": "code",
   "execution_count": null,
   "id": "29f0921f-bfde-4b38-9dd8-feef27af3d05",
   "metadata": {
    "tags": []
   },
   "outputs": [],
   "source": [
    "min_area = 1e5\n",
    "large_rois = [roi.area for roi in roi_list if roi.area > min_area]\n",
    "print(large_rois)\n",
    "print(f'number of large rois: {len(large_rois)}')\n"
   ]
  },
  {
   "cell_type": "markdown",
   "id": "a06dfcff-b1c8-4ae1-8831-2f58c24c4134",
   "metadata": {},
   "source": [
    "## Exercise 2\n",
    "line 261?\n",
    "\n",
    "Adjust the `connected_components` function so that it allows `min_area` as an input argument, and only outputs regions above this minimum.\n",
    "\n",
    "HINT: check out the [skimage.morphology](https://scikit-image.org/docs/stable/api/skimage.morphology.html) library.\n",
    "\n",
    "BONUS: explore other morphometrics from skimage.measure.regionprops\n",
    "1. output the centroid position for each object (above the threshold)\n",
    "2. consider whether you would export or filter by other properties for your own data and/or in what type of images these could be meaningfull\n"
   ]
  },
  {
   "cell_type": "markdown",
   "id": "e906e03a-1bf4-4476-b025-d211167c5f6c",
   "metadata": {
    "tags": []
   },
   "source": [
    "# Capstone Challenge\n",
    "\n",
    "line 274?"
   ]
  },
  {
   "cell_type": "markdown",
   "id": "69099989-585f-4726-bda5-3664309ba11b",
   "metadata": {},
   "source": [
    "Solution:"
   ]
  },
  {
   "cell_type": "code",
   "execution_count": null,
   "id": "d4760661-5982-416a-a086-e2df7648a825",
   "metadata": {
    "tags": []
   },
   "outputs": [],
   "source": [
    "file = '../data/colonies-02.tif'\n",
    "\n",
    "\n",
    "show(iio.imread(file))"
   ]
  },
  {
   "cell_type": "code",
   "execution_count": null,
   "id": "62285f2f-15c7-4c7b-8589-b695be3f7594",
   "metadata": {
    "tags": []
   },
   "outputs": [],
   "source": [
    "# 1. create connected components function as above \n",
    "# but with the filename instead of the image\n",
    "# 2. remove small objects (from mask!) as in exercise 2\n",
    "# 3. create color labeled im as above\n",
    "# 4. overlay this on top of the grayscale image\n",
    "\n",
    "\n",
    "def output_overlay(\n",
    "    filename,\n",
    "    sigma,\n",
    "    thresh,\n",
    "    neighborhood = 2,\n",
    "    min_area = 0,\n",
    "):\n",
    "    # 1. create connected components function as above,\n",
    "    # but with the filename instead of the image\n",
    "    \n",
    "    img = iio.imread(filename)\n",
    "    gray_img = color.rgb2gray(img)\n",
    "    blurred = filters.gaussian(gray_img, sigma)\n",
    "    mask = blurred < thresh\n",
    "\n",
    "    # 2. remove small objects (from mask!) as in exercise 2\n",
    "    mask = morphology.remove_small_objects(mask, \n",
    "                                           min_area,\n",
    "                                           connectivity=neighborhood)\n",
    "\n",
    "    labeled_img, n_objects = measure.label(mask,\n",
    "                                           connectivity=neighborhood,\n",
    "                                           return_num = True)\n",
    "    \n",
    "    # 3. create color labeled im as above\n",
    "    colonies = color.label2rgb(labeled_img, bg_label=0)\n",
    "    \n",
    "    # 4. overlay this on top of the grayscale image\n",
    "    overlay_img = color.gray2rgb(gray_img)\n",
    "    overlay_img[mask] = colonies[mask]\n",
    "    \n",
    "    # 5. find the areas\n",
    "    roi_list = measure.regionprops(labeled_img)\n",
    "    areas = [roi.area for roi in roi_list]\n",
    "    \n",
    "    # 6 create outputs\n",
    "    print(f'The number of colonies found on plate {os.path.basename(filename)} is {n_objects}')\n",
    "    print(f'The average area of colonies is {np.mean(areas):.2f} pixels')\n",
    "    print(f'The total area of colonies is {int(np.sum(areas))} pixels')\n",
    "\n",
    "    \n",
    "    # BONUS:\n",
    "    roi_list = measure.regionprops(labeled_img, gray_img)\n",
    "    mean_intensities = [roi.intensity_mean for roi in roi_list]\n",
    "    min_index = mean_intensities.index(min(mean_intensities))\n",
    "    bbox = roi_list[min_index].bbox\n",
    "    \n",
    "    ry, cx = draw.rectangle_perimeter(start=(bbox[0]-5,bbox[1]-5), end=(bbox[2]+5, bbox[3]+5))\n",
    "    overlay_img[ry, cx] = 0\n",
    "    \n",
    "    outfile = './' + os.path.basename(filename)[:-4] + '_overlay.png'\n",
    "    plt.savefig(format='png', fname=outfile)\n",
    "    \n",
    "    show(overlay_img)"
   ]
  },
  {
   "cell_type": "code",
   "execution_count": null,
   "id": "506db645-199b-45cf-9100-d1fdb19de0c0",
   "metadata": {
    "tags": []
   },
   "outputs": [],
   "source": [
    "file = '../data/colonies-03.tif'\n",
    "\n",
    "output_overlay(file, 0.3, 0.3, neighborhood=1, min_area = 5)"
   ]
  },
  {
   "cell_type": "code",
   "execution_count": null,
   "id": "c0a3e854-9aad-4138-9f4b-329abf5e7c94",
   "metadata": {},
   "outputs": [],
   "source": []
  },
  {
   "cell_type": "code",
   "execution_count": null,
   "id": "d9ef27e9-24a1-4c6e-9cf6-d5949f9f3c07",
   "metadata": {},
   "outputs": [],
   "source": []
  },
  {
   "cell_type": "code",
   "execution_count": null,
   "id": "e6c72831-34d7-4436-b4c7-a6ee3ae17340",
   "metadata": {},
   "outputs": [],
   "source": []
  }
 ],
 "metadata": {
  "kernelspec": {
   "display_name": "Python 3 (ipykernel)",
   "language": "python",
   "name": "python3"
  },
  "language_info": {
   "codemirror_mode": {
    "name": "ipython",
    "version": 3
   },
   "file_extension": ".py",
   "mimetype": "text/x-python",
   "name": "python",
   "nbconvert_exporter": "python",
   "pygments_lexer": "ipython3",
   "version": "3.8.16"
  }
 },
 "nbformat": 4,
 "nbformat_minor": 5
}
