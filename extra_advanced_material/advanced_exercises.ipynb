{
 "cells": [
  {
   "cell_type": "markdown",
   "metadata": {},
   "source": [
    "# Extra advanced material and exercises\n",
    "\n"
   ]
  },
  {
   "cell_type": "code",
   "execution_count": null,
   "metadata": {},
   "outputs": [],
   "source": [
    "import numpy as np\n",
    "import glob\n",
    "import matplotlib.pyplot as plt\n",
    "import imageio.v3 as iio\n",
    "import skimage\n",
    "\n",
    "\n",
    "from skimage import data, util, filters, color\n",
    "from skimage.segmentation import watershed\n",
    "\n",
    "%matplotlib widget"
   ]
  },
  {
   "cell_type": "markdown",
   "metadata": {},
   "source": [
    "## 3-D images and videos"
   ]
  },
  {
   "cell_type": "markdown",
   "metadata": {},
   "source": [
    "The main material for our course deals with 2 dimensional images. However images can be three dimensional, for example a CT or MRI of the human brain. Images can even be four dimensional, for example a moving real-time image of a fetus through ultrasound. Check out this lovely image as an example: https://en.wikipedia.org/wiki/File:Fetal_yawning_4D_ultrasound_ecografia_4D_Dr._Wolfgang_Moroder.theora.ogv"
   ]
  },
  {
   "cell_type": "markdown",
   "metadata": {},
   "source": [
    "How do we understand images that are more than just a plane? Conceputally we could think of 3-D images as a sequence of multiple 2D images stacked on each other. But this idea takes away the critical fact that we are dealing with something made of small cubes instead of pixels (small squares). We now are dealing in voxels. As pixels were to 2D images, voxels are to 3D images. Voxels is a concatenation from volume and element. \n",
    "\n",
    "\n",
    "Check out this code (adapted from Matplotlib documentation )  to see (and here we mean literally visualize) what we mean:"
   ]
  },
  {
   "cell_type": "code",
   "execution_count": null,
   "metadata": {
    "tags": []
   },
   "outputs": [],
   "source": [
    "def explode(data):\n",
    "    size = np.array(data.shape)*2\n",
    "    data_e = np.zeros(size - 1, dtype=data.dtype)\n",
    "    data_e[::2, ::2, ::2] = data\n",
    "    return data_e\n",
    "\n",
    "# build up the numpy logo\n",
    "n_voxels = np.zeros((4, 4, 4), dtype=bool)\n",
    "n_voxels[0, 0, :] = True\n",
    "n_voxels[-2, 0, 2] = True\n",
    "n_voxels[1, 0, :] = True\n",
    "n_voxels[2, 0, :] = True\n",
    "facecolors = np.where(n_voxels, '#FFD65DC0', '#7733ff')\n",
    "edgecolors = np.where(n_voxels, '#BFAB6E', '#7D84A6')\n",
    "filled = np.ones(n_voxels.shape)\n",
    "\n",
    "# upscale the above voxel image, leaving gaps\n",
    "filled_2 = explode(filled)\n",
    "fcolors_2 = explode(facecolors)\n",
    "ecolors_2 = explode(edgecolors)\n",
    "\n",
    "# Shrink the gaps\n",
    "x, y, z = np.indices(np.array(filled_2.shape) + 1).astype(float) // 2\n",
    "x[0::2, :, :] += 0.05\n",
    "y[:, 0::2, :] += 0.05\n",
    "z[:, :, 0::2] += 0.05\n",
    "x[1::2, :, :] += 0.95\n",
    "y[:, 1::2, :] += 0.95\n",
    "z[:, :, 1::2] += 0.95\n",
    "\n",
    "ax = plt.figure().add_subplot(projection='3d')\n",
    "ax.voxels(x, y, z, filled_2, facecolors=fcolors_2, edgecolors=ecolors_2)\n",
    "#ax.set_aspect()\n",
    "\n",
    "plt.show()\n"
   ]
  },
  {
   "cell_type": "markdown",
   "metadata": {},
   "source": [
    "You should see something that looks like a cube made of cubes. This is the idea of a voxel. It is about volumes."
   ]
  },
  {
   "cell_type": "markdown",
   "metadata": {},
   "source": [
    "We can use skimage to work with voxels just as we use it to work with pixels. In fact there are even instructions in the documentation:\n",
    "\n",
    "https://scikit-image.org/skimage-tutorials/lectures/three_dimensional_image_processing.html\n",
    "\n",
    "Read the documentation, but note you do not have all the libraries available to run the code snippets.\n",
    "\n",
    "Advanced exercise #1 : Create your own 3D image (hint: images are arrays), see what happens when you use plt.imshow to display it\n",
    "\n",
    "The awnsers are in the lower cell blocks"
   ]
  },
  {
   "cell_type": "markdown",
   "metadata": {},
   "source": [
    "## Segmentation with watershedding\n",
    "### Watershedding is a type of segmentation algorithm\n",
    "\n",
    "Segmentation is seperating different objects inside an image. For example if we have a body CT , and we want to build an algorithm that looks at only the bony structures we may want to perform a segmentation  to segment only the bones. In this case you might guess the idea behind segmentation could very simple, as the bones will be of very different pixel intensity values than surrounding tissue. But in other cases things may not be so simple. There are many different algorithms used for segmentation. This course will touch on the edge of a few, but one that is popular, and not covered is watershedding.\n",
    "\n",
    "Read the documentation for watershedding in skimage here: \n",
    "https://scikit-image.org/docs/stable/auto_examples/segmentation/plot_watershed.html\n",
    "\n"
   ]
  },
  {
   "cell_type": "markdown",
   "metadata": {
    "tags": []
   },
   "source": [
    "In reality watershedding is a group of algorithms with variation. One variant offered in skimage can be read on here:\n",
    "    \n",
    "https://scikit-image.org/docs/stable/auto_examples/segmentation/plot_compact_watershed.html\n"
   ]
  },
  {
   "cell_type": "markdown",
   "metadata": {},
   "source": [
    "Exercise 2: use the boiler plate code below and see if you can make a better watershed than the offered compact watershed? \n",
    "\n",
    "Hint: check the parameters of the function here: https://scikit-image.org/docs/stable/api/skimage.segmentation.html#skimage.segmentation.watershed\n",
    "\n",
    "Is a watershed the best algorithm for this segmentation?"
   ]
  },
  {
   "cell_type": "code",
   "execution_count": null,
   "metadata": {
    "tags": []
   },
   "outputs": [],
   "source": [
    "\n",
    "\n",
    "coins = data.coins()\n",
    "edges = filters.sobel(coins)\n",
    "\n",
    "grid = util.regular_grid(coins.shape, n_points=468)\n",
    "\n",
    "seeds = np.zeros(coins.shape, dtype=int)\n",
    "seeds[grid] = np.arange(seeds[grid].size).reshape(seeds[grid].shape) + 1\n",
    "\n",
    "w0 = watershed(edges, seeds)\n",
    "w1 = watershed(edges, seeds, compactness=0.1)\n",
    "# YOU CHANGE W2\n",
    "w2 = watershed(edges, seeds, compactness=0.1)\n",
    "# setting values to rows and column variables \n",
    "fig, axs = plt.subplots(2, 2)\n",
    "axs[0, 0].imshow(coins)\n",
    "#axs[0, 0].xticks= False\n",
    "axs[0, 0].set_title('Original Image')\n",
    "axs[0, 1].imshow(color.label2rgb(w0, coins, bg_label=-1))\n",
    "axs[0,0].axis('off')\n",
    "axs[0, 1].set_title('Simple Watershed')\n",
    "axs[0, 1].axis('off')\n",
    "axs[1, 0].imshow(color.label2rgb(w1, coins, bg_label=-1))\n",
    "axs[1,0].axis('off')\n",
    "axs[1, 0].set_title('Compact Watershed')\n",
    "axs[1, 1].imshow(color.label2rgb(w2, coins, bg_label=-1))\n",
    "axs[1, 1].set_title('Your solution (improve it!)')\n",
    "axs[1,1].axis('off')\n",
    "\n",
    "\n"
   ]
  },
  {
   "cell_type": "markdown",
   "metadata": {},
   "source": [
    "## Template matching\n",
    "\n",
    "In some cases we know what we are looking for in an image, just not exactly where to find it. We are looking for a specific image patch somehwere\n",
    "For example imagine you have a dataset of ultrasound images with a muscle name written  into the image on only some of them. Something tells you this is not a goood idea since your machine learning algorithm seeks to classify which muscle the ultrasound was of. Essentially you have the label in some imaghes, and you need to get it off.  On one image  with a specific image patch, we can handle this manually. But what if we have to find such images out of 500,000?"
   ]
  },
  {
   "cell_type": "markdown",
   "metadata": {},
   "source": [
    "Skimage has template matching capacity. Read more about that here: \n",
    "https://scikit-image.org/docs/stable/auto_examples/features_detection/plot_template.html"
   ]
  },
  {
   "cell_type": "markdown",
   "metadata": {},
   "source": [
    "Advanced exerfcise #3:\n",
    "\n",
    "Imagine you have a set of 500,000 ultrasounds, with the muscle name potentially burned into the images by a technician typing the name into one corner. think of hour algorithmic approaches you coud consider to deal with the problem."
   ]
  },
  {
   "cell_type": "markdown",
   "metadata": {},
   "source": [
    "# Awnsers for advanced exercises"
   ]
  },
  {
   "cell_type": "markdown",
   "metadata": {},
   "source": [
    "Advanced exercise #1 : Create your own 3D image!\n",
    "PossibleAwnser:"
   ]
  },
  {
   "cell_type": "code",
   "execution_count": null,
   "metadata": {
    "tags": []
   },
   "outputs": [],
   "source": [
    "image_array = np.array([[[1., 0.01, 0.25, 1.],\n",
    "        [1., 1., 1., 1.],\n",
    "        [1., 1., 1., 1.]],\n",
    "\n",
    "       [[1., 1., 1., 1.],\n",
    "        [1., 1., 1., 1.],\n",
    "        [1., 1., 1., 1.]],\n",
    "\n",
    "       [[1., 0.2, 1., 1.],\n",
    "        [1., 1., 1., 1.],\n",
    "        [1., 1., 1., 1.]],\n",
    "\n",
    "       [[1., 0.4, 1., 1.],\n",
    "        [1., 1., 1., 1.],\n",
    "        [1., 1., 1., 1.]]])"
   ]
  },
  {
   "cell_type": "code",
   "execution_count": null,
   "metadata": {
    "tags": []
   },
   "outputs": [],
   "source": [
    "plt.imshow(image_array)"
   ]
  },
  {
   "cell_type": "markdown",
   "metadata": {
    "tags": []
   },
   "source": [
    "We get a picture of only one \"face of the cube\" when we try t use matplotlib.pyplot.imshow. Often libraries such as pltly are useful to visualize 3D images."
   ]
  },
  {
   "cell_type": "code",
   "execution_count": null,
   "metadata": {},
   "outputs": [],
   "source": []
  },
  {
   "cell_type": "markdown",
   "metadata": {},
   "source": [
    "Advanced exercise #2 : Create your own watershedding oe better segmentation example\n",
    "\n",
    "\n",
    "PossibleAwnser:"
   ]
  },
  {
   "cell_type": "code",
   "execution_count": null,
   "metadata": {
    "tags": []
   },
   "outputs": [],
   "source": [
    "\n",
    "\n",
    "coins = data.coins()\n",
    "edges = filters.sobel(coins)\n",
    "\n",
    "grid = util.regular_grid(coins.shape, n_points=468)\n",
    "\n",
    "seeds = np.zeros(coins.shape, dtype=int)\n",
    "seeds[grid] = np.arange(seeds[grid].size).reshape(seeds[grid].shape) + 1\n",
    "\n",
    "w0 = watershed(edges, seeds)\n",
    "w1 = watershed(edges, seeds, compactness=0.1)\n",
    "w2 = watershed(edges, seeds, connectivity=0.5, compactness=0.0001)\n",
    "\n",
    "# setting values to rows and column variables \n",
    "fig, axs = plt.subplots(2, 2)\n",
    "axs[0, 0].imshow(coins)\n",
    "#axs[0, 0].xticks= False\n",
    "axs[0, 0].set_title('Original Image')\n",
    "axs[0, 1].imshow(color.label2rgb(w0, coins, bg_label=-1))\n",
    "axs[0,0].axis('off')\n",
    "axs[0, 1].set_title('Simple Watershed')\n",
    "axs[0, 1].axis('off')\n",
    "axs[1, 0].imshow(color.label2rgb(w1, coins, bg_label=-1))\n",
    "axs[1,0].axis('off')\n",
    "axs[1, 0].set_title('Compact Watershed')\n",
    "axs[1, 1].imshow(color.label2rgb(w2, coins, bg_label=-1))\n",
    "axs[1, 1].set_title('Your solution (improve it!)')\n",
    "axs[1,1].axis('off')"
   ]
  },
  {
   "cell_type": "markdown",
   "metadata": {},
   "source": [
    "Is a watershed as applied here the best algorithm for this segmentation?\n",
    "\n",
    "Probably not. While we can improve our watershed in theory forever, with some predictableadditions thigns will be much better.\n",
    "\n",
    "Take a look at the following:\n",
    "    \n",
    " https://scikit-image.org/docs/stable/auto_examples/applications/plot_coins_segmentation.html"
   ]
  },
  {
   "cell_type": "markdown",
   "metadata": {},
   "source": [
    "Awnser #3:"
   ]
  },
  {
   "cell_type": "markdown",
   "metadata": {},
   "source": [
    "You could use an optical charecter recognition to recognize text, you could use template mathching to look for the exact text as you expect it to appear, or you could simply crop the image edges off or draw rectangeles over all edges in every image.\n",
    "\n",
    "In fact there are even more solutions. There is usually more than one way to accomplish your goals!\n"
   ]
  }
 ],
 "metadata": {
  "kernelspec": {
   "display_name": "Python 3 (ipykernel)",
   "language": "python",
   "name": "python3"
  },
  "language_info": {
   "codemirror_mode": {
    "name": "ipython",
    "version": 3
   },
   "file_extension": ".py",
   "mimetype": "text/x-python",
   "name": "python",
   "nbconvert_exporter": "python",
   "pygments_lexer": "ipython3",
   "version": "3.8.6"
  },
  "vscode": {
   "interpreter": {
    "hash": "5b79b80982e823ea13d3c68f1c1abe4427cb9850be699e1028b15dcbebd0f79e"
   }
  }
 },
 "nbformat": 4,
 "nbformat_minor": 4
}
