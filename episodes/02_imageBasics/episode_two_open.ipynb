{
 "cells": [
  {
   "cell_type": "markdown",
   "id": "92e516b8-7eec-4715-ac3c-daa6dff28fd1",
   "metadata": {},
   "source": [
    "# Episode : Image Basics"
   ]
  },
  {
   "cell_type": "code",
   "execution_count": null,
   "id": "d249e586-cf44-4145-bfea-104e475c714e",
   "metadata": {},
   "outputs": [],
   "source": []
  },
  {
   "cell_type": "code",
   "execution_count": null,
   "id": "4373236d-55c6-49c2-87f5-7dcde11dc0ea",
   "metadata": {},
   "outputs": [],
   "source": []
  },
  {
   "cell_type": "code",
   "execution_count": null,
   "id": "4f70a794-dab9-4147-abf7-dc757954b982",
   "metadata": {},
   "outputs": [],
   "source": []
  },
  {
   "cell_type": "code",
   "execution_count": null,
   "id": "7d4613e6-3105-4251-abee-be5fe5b0afc0",
   "metadata": {},
   "outputs": [],
   "source": []
  }
 ],
 "metadata": {
  "kernelspec": {
   "display_name": "Python 3 (ipykernel)",
   "language": "python",
   "name": "python3"
  },
  "language_info": {
   "codemirror_mode": {
    "name": "ipython",
    "version": 3
   },
   "file_extension": ".py",
   "mimetype": "text/x-python",
   "name": "python",
   "nbconvert_exporter": "python",
   "pygments_lexer": "ipython3",
   "version": "3.8.6"
  }
 },
 "nbformat": 4,
 "nbformat_minor": 5
}
