{
 "cells": [
  {
   "cell_type": "markdown",
   "id": "4d5e4b3a-15c9-452c-aab5-78170fd95ff9",
   "metadata": {},
   "source": [
    "# Episode: Intro to Skimage"
   ]
  },
  {
   "cell_type": "code",
   "execution_count": null,
   "id": "7a5bb6cc-dbc3-4a81-974a-b17780b045b5",
   "metadata": {},
   "outputs": [],
   "source": []
  }
 ],
 "metadata": {
  "kernelspec": {
   "display_name": "Python 3 (ipykernel)",
   "language": "python",
   "name": "python3"
  },
  "language_info": {
   "codemirror_mode": {
    "name": "ipython",
    "version": 3
   },
   "file_extension": ".py",
   "mimetype": "text/x-python",
   "name": "python",
   "nbconvert_exporter": "python",
   "pygments_lexer": "ipython3",
   "version": "3.8.6"
  }
 },
 "nbformat": 4,
 "nbformat_minor": 5
}
