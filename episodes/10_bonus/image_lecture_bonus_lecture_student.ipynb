{
 "cells": [
  {
   "cell_type": "code",
   "execution_count": null,
   "metadata": {
    "tags": []
   },
   "outputs": [],
   "source": [
    "%matplotlib inline"
   ]
  },
  {
   "cell_type": "markdown",
   "metadata": {},
   "source": [
    "\n",
    "# Bonus: Affine and AI\n",
    "student notebook\n",
    "\n",
    "\n",
    "\n"
   ]
  },
  {
   "cell_type": "markdown",
   "metadata": {},
   "source": [
    "### our image backbone libraries"
   ]
  },
  {
   "cell_type": "code",
   "execution_count": null,
   "metadata": {
    "tags": []
   },
   "outputs": [],
   "source": [
    "#import libraries\n",
    "import numpy as np\n",
    "import matplotlib\n",
    "from matplotlib import pyplot as plt\n",
    "from skimage import data, io, color, img_as_float, exposure"
   ]
  },
  {
   "cell_type": "markdown",
   "metadata": {},
   "source": [
    "### libraries generally good to have around"
   ]
  },
  {
   "cell_type": "code",
   "execution_count": null,
   "metadata": {
    "tags": []
   },
   "outputs": [],
   "source": [
    "import os\n",
    "import glob\n",
    "\n"
   ]
  },
  {
   "cell_type": "markdown",
   "metadata": {},
   "source": [
    "# skimage time"
   ]
  },
  {
   "cell_type": "code",
   "execution_count": null,
   "metadata": {
    "tags": []
   },
   "outputs": [],
   "source": [
    "\n",
    "from skimage import data\n",
    "from skimage import transform\n",
    "from skimage import img_as_float\n",
    "from skimage.transform import rotate\n",
    "#from skimage.transform import AffineTransform\n",
    "from skimage import transform as tf\n",
    "from skimage.transform import PiecewiseAffineTransform\n"
   ]
  },
  {
   "cell_type": "markdown",
   "metadata": {},
   "source": [
    "## Our images"
   ]
  },
  {
   "cell_type": "code",
   "execution_count": null,
   "metadata": {
    "tags": []
   },
   "outputs": [],
   "source": [
    "image_b = io.imread('cardiomegaly_cc0.png') # cardiomegaly CXR\n",
    "image_g = io.imread('rotatechest.png') # a relatively normal CXR\n",
    "image_y = io.imread('other_op.png') # a relatively normal CXR\n"
   ]
  },
  {
   "cell_type": "markdown",
   "metadata": {},
   "source": [
    "### Let's examine the  images"
   ]
  },
  {
   "cell_type": "code",
   "execution_count": null,
   "metadata": {},
   "outputs": [],
   "source": []
  },
  {
   "cell_type": "markdown",
   "metadata": {},
   "source": [
    "## Let's look at some non-geometric transformations"
   ]
  },
  {
   "cell_type": "code",
   "execution_count": null,
   "metadata": {
    "tags": []
   },
   "outputs": [],
   "source": [
    "matplotlib.rcParams['font.size'] = 8\n",
    "\n",
    "\n",
    "def plot_img_and_hist(image, axes, bins=256):\n",
    "    \"\"\"Plot an image along with its histogram and cumulative histogram.\n",
    "\n",
    "    \"\"\"\n",
    "    image = img_as_float(image)\n",
    "    ax_img, ax_hist = axes\n",
    "    ax_cdf = ax_hist.twinx()\n",
    "\n",
    "    # Display image\n",
    "    ax_img.imshow(image, cmap=plt.cm.gray)\n",
    "    ax_img.set_axis_off()\n",
    "\n",
    "    # Display histogram\n",
    "    ax_hist.hist(image.ravel(), bins=bins, histtype='step', color='black')\n",
    "    ax_hist.ticklabel_format(axis='y', style='scientific', scilimits=(0, 0))\n",
    "    ax_hist.set_xlabel('Pixel intensity')\n",
    "    ax_hist.set_xlim(0, 1)\n",
    "    ax_hist.set_yticks([])\n",
    "\n",
    "    # Display cumulative distribution\n",
    "    img_cdf, bins = exposure.cumulative_distribution(image, bins)\n",
    "    ax_cdf.plot(bins, img_cdf, 'r')\n",
    "    ax_cdf.set_yticks([])\n",
    "\n",
    "    return ax_img, ax_hist,  ax_cdf\n",
    "\n",
    "\n",
    "# Load an example image\n",
    "img = image_b\n",
    "\n",
    "# Make an FFT trasnform\n",
    "\n",
    "made_fourier = np.fft.fftshift(np.fft.fft2(image_b))\n",
    "\n",
    "# Contrast blunting\n",
    "p60, p90 = np.percentile(img, (60, 90))\n",
    "img_rescale = exposure.rescale_intensity(img, in_range=(p60, p90))\n",
    "\n",
    "# Equalization\n",
    "img_eq = exposure.equalize_hist(img)\n",
    "\n",
    "# Adaptive Equalization\n",
    "img_adapteq = exposure.equalize_adapthist(img, clip_limit=0.03)\n",
    "\n",
    "# Display results\n",
    "fig = plt.figure(figsize=(8, 5))\n",
    "axes = np.zeros((2, 4), dtype=np.object)\n",
    "axes[0, 0] = fig.add_subplot(2, 4, 1)\n",
    "for i in range(1, 4):\n",
    "    axes[0, i] = fig.add_subplot(2, 4, 1+i, sharex=axes[0,0], sharey=axes[0,0])\n",
    "for i in range(0, 4):\n",
    "    axes[1, i] = fig.add_subplot(2, 4, 5+i)\n",
    "\n",
    "ax_img, ax_hist, ax_cdf = plot_img_and_hist(made_fourier[::1].real, axes[:, 0])\n",
    "ax_img.set_title('FFT based transformation')\n",
    "\n",
    "y_min, y_max = ax_hist.get_ylim()\n",
    "ax_hist.set_ylabel('Number of pixels')\n",
    "ax_hist.set_yticks(np.linspace(0, y_max, 5))\n",
    "\n",
    "ax_img, ax_hist, ax_cdf = plot_img_and_hist(img_rescale, axes[:, 1])\n",
    "ax_img.set_title('Contrast blunting')\n",
    "\n",
    "ax_img, ax_hist, ax_cdf = plot_img_and_hist(img_eq, axes[:, 2])\n",
    "ax_img.set_title('Histogram equalization')\n",
    "\n",
    "ax_img, ax_hist, ax_cdf = plot_img_and_hist(img_adapteq, axes[:, 3])\n",
    "ax_img.set_title('Adaptive equalization')\n",
    "\n",
    "ax_cdf.set_ylabel('Fraction of total intensity')\n",
    "ax_cdf.set_yticks(np.linspace(0, 1, 5))\n",
    "\n",
    "# prevent overlap of y-axis labels\n",
    "fig.tight_layout()\n",
    "plt.show()\n",
    "\n"
   ]
  },
  {
   "cell_type": "markdown",
   "metadata": {},
   "source": [
    "## Now let's get into geometric transformations"
   ]
  },
  {
   "cell_type": "markdown",
   "metadata": {},
   "source": [
    "NB: rescale, resize etc. are geometric transformations, but so are all affines, which can be rotates or shears"
   ]
  },
  {
   "cell_type": "markdown",
   "metadata": {},
   "source": [
    "An affine transformation is a transform that is one or  any combination of the following:\n",
    "\n",
    "    Shifting\n",
    "    Scaling\n",
    "    Flipping over any axis\n",
    "    Rotating\n",
    "    Shearing\n",
    "\n"
   ]
  },
  {
   "cell_type": "markdown",
   "metadata": {},
   "source": [
    "Geometrical transformations involve multiplying our image matrix by another. \n",
    "NB: there is always a matrix that will not change ours, the identity matrix."
   ]
  },
  {
   "cell_type": "markdown",
   "metadata": {},
   "source": [
    "# Your task"
   ]
  },
  {
   "cell_type": "markdown",
   "metadata": {},
   "source": [
    "You have been assigned to make an algorithm for cardiomegaly detection so patients can be notified if by change their X-ray shows cardiomegaly. You are given a dataset of healthy (no cardiomegaly) patients who went to an outpatient clinic  in a poor area staffed with first year radiography students and Xrays of cardiomegaly patients from a prestigeous hospital. "
   ]
  },
  {
   "cell_type": "code",
   "execution_count": null,
   "metadata": {},
   "outputs": [],
   "source": [
    "# create figure\n",
    "fig = plt.figure(figsize=(10, 7))\n",
    "  \n",
    "# setting values to rows and column variables\n",
    "rows = 1\n",
    "columns = 3\n",
    "\n",
    "# Adds a subplot at the 1st position\n",
    "fig.add_subplot(rows, columns, 1)\n",
    "# showing image\n",
    "plt.imshow(image_g)\n",
    "plt.axis('off')\n",
    "plt.title(\"Normal 1\")\n",
    "  \n",
    "# Adds a subplot at the 2nd position\n",
    "fig.add_subplot(rows, columns, 2)\n",
    "# showing image\n",
    "plt.imshow(image_b)\n",
    "plt.axis('off')\n",
    "plt.title(\"Cardiomegaly\")\n",
    "\n",
    "# Adds a subplot at the 3nd position\n",
    "fig.add_subplot(rows, columns, 3)\n",
    "# showing image\n",
    "plt.imshow(image_y)\n",
    "plt.axis('off')\n",
    "plt.title(\"Normal 2\")\n"
   ]
  },
  {
   "cell_type": "markdown",
   "metadata": {},
   "source": [
    "You want to make a dataset of realistic upright chest X-rays from two images to generate a propsed pipeline for preprocessing. Your question is about the label of cardiomegaly, i.e. big hearts. Use skimage.tranform.rotate to produce two realistic augmented images  (name them new_pic1 and new_pic2) from the given 'normal' image, and then apply what you percieve as the two most critical algorithms to make them ready for classic supervised machine learning in one bit of code. (hint: look at the shape of the cardiomegaly image in more ways than one)"
   ]
  },
  {
   "cell_type": "code",
   "execution_count": null,
   "metadata": {},
   "outputs": [],
   "source": []
  },
  {
   "cell_type": "code",
   "execution_count": null,
   "metadata": {},
   "outputs": [],
   "source": [
    "# code students need to add\n",
    "new_pic1 = YOUR_CODE HERE\n",
    "new_pic2 = YOUR_CODE HERE\n",
    "\n"
   ]
  },
  {
   "cell_type": "code",
   "execution_count": null,
   "metadata": {},
   "outputs": [],
   "source": [
    "# create figure\n",
    "fig = plt.figure(figsize=(10, 7))\n",
    "  \n",
    "# setting values to rows and column variables\n",
    "rows = 1\n",
    "columns = 3\n",
    "\n",
    "# Adds a subplot at the 1st position\n",
    "fig.add_subplot(rows, columns, 1)\n",
    "# showing image\n",
    "plt.imshow(image_g)\n",
    "plt.axis('off')\n",
    "plt.title(\"Normal 1\")\n",
    "  \n",
    "# Adds a subplot at the 2nd position\n",
    "fig.add_subplot(rows, columns, 2)\n",
    "# showing image\n",
    "plt.imshow(new_pic1)\n",
    "plt.axis('off')\n",
    "plt.title(\"Augment 1\")\n",
    "\n",
    "# Adds a subplot at the 3nd position\n",
    "fig.add_subplot(rows, columns, 3)\n",
    "# showing image\n",
    "plt.imshow(new_pic2)\n",
    "plt.axis('off')\n",
    "plt.title(\"Augment 2\")"
   ]
  },
  {
   "cell_type": "code",
   "execution_count": null,
   "metadata": {},
   "outputs": [],
   "source": []
  },
  {
   "cell_type": "code",
   "execution_count": null,
   "metadata": {},
   "outputs": [],
   "source": [
    "YOUR_CODE HERE for making the augmentations ready for the pipeline"
   ]
  },
  {
   "cell_type": "code",
   "execution_count": null,
   "metadata": {},
   "outputs": [],
   "source": [
    "YOUR_CODE HERE for making the augmentations ready for the pipeline"
   ]
  },
  {
   "cell_type": "code",
   "execution_count": null,
   "metadata": {},
   "outputs": [],
   "source": []
  },
  {
   "cell_type": "code",
   "execution_count": null,
   "metadata": {},
   "outputs": [],
   "source": []
  },
  {
   "cell_type": "code",
   "execution_count": null,
   "metadata": {},
   "outputs": [],
   "source": [
    "list_images = [image_g, new_pic1, new_pic2]"
   ]
  },
  {
   "cell_type": "code",
   "execution_count": null,
   "metadata": {},
   "outputs": [],
   "source": [
    "better_for_ml_list = []\n",
    "for image in list_images:\n",
    "    #YOUR_CODE HERE for making the augmentations ready for the pipeline\n",
    "    #YOUR_CODE HERE for making the augmentations ready for the pipeline\n",
    "    better_for_ml_list.append(image)\n"
   ]
  },
  {
   "cell_type": "code",
   "execution_count": null,
   "metadata": {},
   "outputs": [],
   "source": [
    "# create figure\n",
    "fig = plt.figure(figsize=(10, 7))\n",
    "  \n",
    "# setting values to rows and column variables\n",
    "rows = 1\n",
    "columns = 3\n",
    "\n",
    "# Adds a subplot at the 1st position\n",
    "fig.add_subplot(rows, columns, 1)\n",
    "# showing image\n",
    "plt.imshow(better_for_ml_list[0])\n",
    "plt.axis('off')\n",
    "plt.title(\"Normal 1\")\n",
    "  \n",
    "# Adds a subplot at the 2nd position\n",
    "fig.add_subplot(rows, columns, 2)\n",
    "# showing image\n",
    "plt.imshow(better_for_ml_list[1])\n",
    "plt.axis('off')\n",
    "plt.title(\"Augment 1\")\n",
    "\n",
    "# Adds a subplot at the 3nd position\n",
    "fig.add_subplot(rows, columns, 3)\n",
    "# showing image\n",
    "plt.imshow(better_for_ml_list[2])\n",
    "plt.axis('off')\n",
    "plt.title(\"Augment 2\")"
   ]
  },
  {
   "cell_type": "code",
   "execution_count": null,
   "metadata": {},
   "outputs": [],
   "source": [
    "## Now you want to add to your data with a sheared version of the cardiomegaly image\n",
    "# shearing like all of these operations is a matrix multiplication, you will need to create the matrix, then let the program do some math\n",
    "\n",
    "# use AffineTransform() class to create a shearing matrix to do this, see documentation (https://scikit-image.org/docs/stable/api/skimage.transform.html#skimage.transform.AffineTransform) \n",
    "\n",
    "# then show the matrix by just putting it in the cell\n",
    "\n",
    "# then use tf.warp to apply  the matrix and 'magical' math\n",
    "\n",
    "# finally display the output (your sheared image)"
   ]
  },
  {
   "cell_type": "markdown",
   "metadata": {},
   "source": [
    "Let's talk about warp"
   ]
  },
  {
   "cell_type": "markdown",
   "metadata": {},
   "source": [
    "skimage.transform.warp(image, inverse_map, map_args={}, output_shape=None, order=None, mode='constant', cval=0.0, clip=True, preserve_range=False\n",
    "\n",
    "warp will warp an image according to a given coordinate transformation."
   ]
  },
  {
   "cell_type": "code",
   "execution_count": null,
   "metadata": {},
   "outputs": [],
   "source": []
  },
  {
   "cell_type": "code",
   "execution_count": null,
   "metadata": {},
   "outputs": [],
   "source": [
    "# Create Afine transform\n",
    "#YOUR_CODE HERE for making the magical matrix\n",
    "\n",
    "afine_tf"
   ]
  },
  {
   "cell_type": "code",
   "execution_count": null,
   "metadata": {},
   "outputs": [],
   "source": [
    "# Apply transform to image data\n",
    "YOUR_CODE HERE for doing the matrix math\n",
    "\n",
    "# Display the result\n",
    "io.imshow(modified)\n",
    "io.show()"
   ]
  },
  {
   "cell_type": "code",
   "execution_count": null,
   "metadata": {},
   "outputs": [],
   "source": [
    "\n",
    "\n",
    "# Cheat documentation (https://scikit-image.org/docs/stable/auto_examples/transform/plot_transform_types.html#sphx-glr-auto-examples-transform-plot-transform-types-py)"
   ]
  },
  {
   "cell_type": "markdown",
   "metadata": {},
   "source": [
    "## Let's explore another kind of transformation- let's transform over a mesh"
   ]
  },
  {
   "cell_type": "code",
   "execution_count": null,
   "metadata": {},
   "outputs": [],
   "source": [
    "rows, cols = modified.shape[0], modified.shape[1]\n",
    "\n",
    "#np.linspace will return evenly spaced numbers over an interval\n",
    "src_cols = np.linspace(0, cols, 20)\n",
    "# ie above is start=0, stop = cols, num = 50, and num is the number of chops\n",
    "src_rows = np.linspace(0, rows, 10)\n",
    "\n",
    "# np.meshgrid returns coordinate matrices from coordinate vectors.\n",
    "src_rows, src_cols = np.meshgrid(src_rows, src_cols)\n",
    "\n",
    "# nunmpy dstack stacks along a third dimension in the concatenation\n",
    "src = np.dstack([src_cols.flat, src_rows.flat])[0]"
   ]
  },
  {
   "cell_type": "code",
   "execution_count": null,
   "metadata": {},
   "outputs": [],
   "source": [
    "dst_rows = src[:, 1] - np.sin(np.linspace(0, 3 * np.pi, src.shape[0])) * 50\n",
    "dst_cols = src[:, 0]\n",
    "dst_rows *= 1.5\n",
    "dst_rows -= 1.5 * 50\n",
    "dst = np.vstack([dst_cols, dst_rows]).T\n",
    "\n",
    "\n",
    "tform = PiecewiseAffineTransform()\n",
    "tform.estimate(src, dst)\n",
    "noform = PiecewiseAffineTransform()\n",
    "noform.estimate(src, src)\n",
    "\n",
    "out_rows = modified.shape[0] - 1.5 * 50\n",
    "out_cols = cols\n",
    "out = tf.warp(modified, tform, output_shape=(out_rows, out_cols))\n"
   ]
  },
  {
   "cell_type": "code",
   "execution_count": null,
   "metadata": {},
   "outputs": [],
   "source": [
    "# create figure\n",
    "fig = plt.figure(figsize=(10, 7))\n",
    "  \n",
    "# setting values to rows and column variables\n",
    "rows = 1\n",
    "columns = 4\n",
    "\n",
    "# Adds a subplot at the 1st position\n",
    "fig.add_subplot(rows, columns, 1)\n",
    "# showing image\n",
    "plt.imshow(modified)\n",
    "plt.axis('off')\n",
    "plt.title(\"Normal\")\n",
    "  \n",
    "# Adds a subplot at the 2nd position\n",
    "fig.add_subplot(rows, columns, 2)\n",
    "# showing image\n",
    "plt.imshow(modified)\n",
    "plt.plot(noform.inverse(src)[:, 0], noform.inverse(src)[:, 1], '.b')\n",
    "plt.axis('off')\n",
    "plt.title(\"Normal and Mesh\")\n",
    "\n",
    "# Adds a subplot at the 3nd position\n",
    "fig.add_subplot(rows, columns, 3)\n",
    "# showing image\n",
    "plt.imshow(out)\n",
    "\n",
    "plt.axis('off')\n",
    "plt.title(\"Augment\")\n",
    "\n",
    "# Adds a subplot at the 3nd position\n",
    "fig.add_subplot(rows, columns, 4)\n",
    "# showing image\n",
    "plt.imshow(out)\n",
    "plt.plot(tform.inverse(src)[:, 0], tform.inverse(src)[:, 1], '.b')\n",
    "plt.axis('off')\n",
    "plt.title(\"Augment and Mesh\")"
   ]
  },
  {
   "cell_type": "markdown",
   "metadata": {},
   "source": [
    "## The above two code blocks made, then displayed a wavy picture, can you alter it to be less wavy, but still wave? "
   ]
  }
 ],
 "metadata": {
  "kernelspec": {
   "display_name": "Python 3 (ipykernel)",
   "language": "python",
   "name": "python3"
  },
  "language_info": {
   "codemirror_mode": {
    "name": "ipython",
    "version": 3
   },
   "file_extension": ".py",
   "mimetype": "text/x-python",
   "name": "python",
   "nbconvert_exporter": "python",
   "pygments_lexer": "ipython3",
   "version": "3.8.6"
  }
 },
 "nbformat": 4,
 "nbformat_minor": 4
}
