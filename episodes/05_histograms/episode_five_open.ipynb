{
 "cells": [
  {
   "cell_type": "markdown",
   "id": "c3da274b-25b3-4878-83bf-ab167d09eac2",
   "metadata": {},
   "source": [
    "# Episode: Histograms"
   ]
  },
  {
   "cell_type": "code",
   "execution_count": null,
   "id": "72ddd560-145a-4c30-8f1d-1a88ec6805f6",
   "metadata": {},
   "outputs": [],
   "source": []
  },
  {
   "cell_type": "code",
   "execution_count": null,
   "id": "b76928e7-ea68-4048-8bd3-a0150407005f",
   "metadata": {},
   "outputs": [],
   "source": []
  },
  {
   "cell_type": "code",
   "execution_count": null,
   "id": "364512ec-098f-4843-821c-5ad1445d53ce",
   "metadata": {},
   "outputs": [],
   "source": []
  }
 ],
 "metadata": {
  "kernelspec": {
   "display_name": "Python 3 (ipykernel)",
   "language": "python",
   "name": "python3"
  },
  "language_info": {
   "codemirror_mode": {
    "name": "ipython",
    "version": 3
   },
   "file_extension": ".py",
   "mimetype": "text/x-python",
   "name": "python",
   "nbconvert_exporter": "python",
   "pygments_lexer": "ipython3",
   "version": "3.8.6"
  }
 },
 "nbformat": 4,
 "nbformat_minor": 5
}
