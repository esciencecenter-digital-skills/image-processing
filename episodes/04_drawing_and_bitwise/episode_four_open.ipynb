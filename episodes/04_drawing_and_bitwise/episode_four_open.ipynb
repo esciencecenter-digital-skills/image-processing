{
 "cells": [
  {
   "cell_type": "markdown",
   "id": "37de790f-8159-4ec8-8421-68bdbe0b6a8e",
   "metadata": {},
   "source": [
    "# Episode: Drawing and Bitwise Operations"
   ]
  },
  {
   "cell_type": "code",
   "execution_count": null,
   "id": "d6ad8fe7-147a-4ff5-af47-743cf9996286",
   "metadata": {},
   "outputs": [],
   "source": []
  },
  {
   "cell_type": "code",
   "execution_count": null,
   "id": "d461a5c3-5a83-4f58-bddb-e302cdf2d46a",
   "metadata": {},
   "outputs": [],
   "source": []
  },
  {
   "cell_type": "code",
   "execution_count": null,
   "id": "f258b91b-53e6-40a5-9811-d961cf378e69",
   "metadata": {},
   "outputs": [],
   "source": []
  },
  {
   "cell_type": "code",
   "execution_count": null,
   "id": "2970ee76-59b7-492c-88a9-ee552e68db51",
   "metadata": {},
   "outputs": [],
   "source": []
  }
 ],
 "metadata": {
  "kernelspec": {
   "display_name": "Python 3 (ipykernel)",
   "language": "python",
   "name": "python3"
  },
  "language_info": {
   "codemirror_mode": {
    "name": "ipython",
    "version": 3
   },
   "file_extension": ".py",
   "mimetype": "text/x-python",
   "name": "python",
   "nbconvert_exporter": "python",
   "pygments_lexer": "ipython3",
   "version": "3.8.6"
  }
 },
 "nbformat": 4,
 "nbformat_minor": 5
}
