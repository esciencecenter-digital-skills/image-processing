{
 "cells": [
  {
   "cell_type": "markdown",
   "metadata": {},
   "source": [
    "# Finding Connected Components"
   ]
  },
  {
   "cell_type": "code",
   "execution_count": null,
   "metadata": {},
   "outputs": [],
   "source": [
    "import numpy as np\n",
    "import matplotlib.pyplot as plt\n",
    "import imageio.v3 as iio\n",
    "import skimage\n"
   ]
  },
  {
   "cell_type": "code",
   "execution_count": null,
   "metadata": {},
   "outputs": [],
   "source": [
    "def connected_components(\n",
    "    filename,\n",
    "    sigma = 1.0,\n",
    "    thresh = 0.5,\n",
    "    neighborhood = 2,\n",
    "):\n",
    "\n",
    "    image = iio.imread(filename)\n",
    "    gray_image = skimage.color.rgb2gray(image)\n",
    "    blurred_image = skimage.filters.gaussian(gray_image, sigma)\n",
    "    binary_mask = blurred_image < thresh\n",
    "    labeled_image, n_objects = skimage.measure.label(binary_mask, connectivity=neighborhood, return_num=True)\n",
    "    \n",
    "    return labeled_image, n_objects"
   ]
  },
  {
   "cell_type": "code",
   "execution_count": null,
   "metadata": {},
   "outputs": [],
   "source": [
    "file = './data/shapes-01.jpg'\n",
    "image = iio.imread(file)\n",
    "plt.imshow(image)"
   ]
  },
  {
   "cell_type": "code",
   "execution_count": null,
   "metadata": {},
   "outputs": [],
   "source": [
    "\n",
    "labeled_im, count = connected_components(file, 2, 0.9)\n",
    "colored_label_im = skimage.color.label2rgb(labeled_im, bg_label=0)"
   ]
  },
  {
   "cell_type": "code",
   "execution_count": null,
   "metadata": {},
   "outputs": [],
   "source": [
    "plt.imshow(colored_label_im)"
   ]
  },
  {
   "attachments": {},
   "cell_type": "markdown",
   "metadata": {},
   "source": [
    "## Exercise:\n",
    "\n",
    "  1. Using the `connected_components` function, find two ways of outputting the number of objects found.\n",
    "  2. Does this number correspond with your expectation? Why/why not?\n",
    "  3. Play around with the `sigma` and `thresh` parameters.  \n",
    "    a. How do these parameters influence the number of objects found?  \n",
    "    b. OPTIONAL: Can you find a set of parameters that will give you the expected number of objects?\n"
   ]
  },
  {
   "attachments": {},
   "cell_type": "markdown",
   "metadata": {},
   "source": [
    "# Morphometrics"
   ]
  },
  {
   "cell_type": "code",
   "execution_count": null,
   "metadata": {},
   "outputs": [],
   "source": []
  }
 ],
 "metadata": {
  "kernelspec": {
   "display_name": "image_processing_internal",
   "language": "python",
   "name": "python3"
  },
  "language_info": {
   "codemirror_mode": {
    "name": "ipython",
    "version": 3
   },
   "file_extension": ".py",
   "mimetype": "text/x-python",
   "name": "python",
   "nbconvert_exporter": "python",
   "pygments_lexer": "ipython3",
   "version": "3.9.16"
  },
  "orig_nbformat": 4,
  "vscode": {
   "interpreter": {
    "hash": "76c83491927d8dc0875894c9ce580eaacdeb8b6339e78cf9a4c76ea9908f5556"
   }
  }
 },
 "nbformat": 4,
 "nbformat_minor": 2
}
